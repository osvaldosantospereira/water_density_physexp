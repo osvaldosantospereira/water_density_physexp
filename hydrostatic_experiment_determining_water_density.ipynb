{
 "cells": [
  {
   "cell_type": "markdown",
   "id": "95b8a9de",
   "metadata": {},
   "source": [
    "# Analysis"
   ]
  },
  {
   "cell_type": "code",
   "execution_count": 1,
   "id": "ddf0b4ae",
   "metadata": {
    "ExecuteTime": {
     "end_time": "2025-03-22T03:58:44.790103Z",
     "start_time": "2025-03-22T03:58:43.883105Z"
    }
   },
   "outputs": [
    {
     "name": "stdout",
     "output_type": "stream",
     "text": [
      "300 100 1\n"
     ]
    }
   ],
   "source": [
    "from class_water_density import WaterDensity\n",
    "\n",
    "# Instantiate the class with default parameters\n",
    "wd = WaterDensity()\n",
    "\n",
    "# Default values\n",
    "print(wd.M0, wd.V0, wd.rho)  # 300 100 1\n",
    "\n",
    "# Redefine them manually:\n",
    "wd.M0 = 200\n",
    "wd.V0 = 100\n",
    "wd.rho = 0.997\n",
    "\n",
    "# Step 1: Generate fake experimental data\n",
    "df = wd.gen_fake_data(\n",
    "    n_points=10,  # number of data points\n",
    "    V_min=110,    # minimum volume\n",
    "    V_max=200,    # maximum volume\n",
    "    err_M=0.02,  # relative error in mass\n",
    "    err_V=0.02,   # relative error in volume\n",
    "    noise=2       # random noise\n",
    ")\n",
    "\n",
    "# Step 2: Perform least squares linear regression on the generated data\n",
    "tb1, fit_results = wd.calculate_fit()\n",
    "\n",
    "# Step 3: Format the data table for LaTeX-like reporting\n",
    "tb2 = wd.format_table()"
   ]
  },
  {
   "cell_type": "markdown",
   "id": "abe1caf3",
   "metadata": {},
   "source": [
    "# Artifacts"
   ]
  },
  {
   "cell_type": "markdown",
   "id": "5bf890a2",
   "metadata": {},
   "source": [
    "## Auxiliary dataframe"
   ]
  },
  {
   "cell_type": "code",
   "execution_count": 2,
   "id": "15173483",
   "metadata": {
    "ExecuteTime": {
     "end_time": "2025-03-22T03:58:44.821105Z",
     "start_time": "2025-03-22T03:58:44.793104Z"
    }
   },
   "outputs": [
    {
     "data": {
      "text/html": [
       "<div>\n",
       "<style scoped>\n",
       "    .dataframe tbody tr th:only-of-type {\n",
       "        vertical-align: middle;\n",
       "    }\n",
       "\n",
       "    .dataframe tbody tr th {\n",
       "        vertical-align: top;\n",
       "    }\n",
       "\n",
       "    .dataframe thead th {\n",
       "        text-align: right;\n",
       "    }\n",
       "</style>\n",
       "<table border=\"1\" class=\"dataframe\">\n",
       "  <thead>\n",
       "    <tr style=\"text-align: right;\">\n",
       "      <th></th>\n",
       "      <th>M</th>\n",
       "      <th>sigma_M</th>\n",
       "      <th>V</th>\n",
       "      <th>sigma_V</th>\n",
       "    </tr>\n",
       "  </thead>\n",
       "  <tbody>\n",
       "    <tr>\n",
       "      <th>0</th>\n",
       "      <td>208.003466</td>\n",
       "      <td>4.160069</td>\n",
       "      <td>110.0</td>\n",
       "      <td>2.2</td>\n",
       "    </tr>\n",
       "    <tr>\n",
       "      <th>1</th>\n",
       "      <td>220.836568</td>\n",
       "      <td>4.416731</td>\n",
       "      <td>120.0</td>\n",
       "      <td>2.4</td>\n",
       "    </tr>\n",
       "    <tr>\n",
       "      <th>2</th>\n",
       "      <td>229.363226</td>\n",
       "      <td>4.587265</td>\n",
       "      <td>130.0</td>\n",
       "      <td>2.6</td>\n",
       "    </tr>\n",
       "    <tr>\n",
       "      <th>3</th>\n",
       "      <td>241.788688</td>\n",
       "      <td>4.835774</td>\n",
       "      <td>140.0</td>\n",
       "      <td>2.8</td>\n",
       "    </tr>\n",
       "    <tr>\n",
       "      <th>4</th>\n",
       "      <td>247.943721</td>\n",
       "      <td>4.958874</td>\n",
       "      <td>150.0</td>\n",
       "      <td>3.0</td>\n",
       "    </tr>\n",
       "    <tr>\n",
       "      <th>5</th>\n",
       "      <td>259.803110</td>\n",
       "      <td>5.196062</td>\n",
       "      <td>160.0</td>\n",
       "      <td>3.2</td>\n",
       "    </tr>\n",
       "    <tr>\n",
       "      <th>6</th>\n",
       "      <td>268.913909</td>\n",
       "      <td>5.378278</td>\n",
       "      <td>170.0</td>\n",
       "      <td>3.4</td>\n",
       "    </tr>\n",
       "    <tr>\n",
       "      <th>7</th>\n",
       "      <td>279.984172</td>\n",
       "      <td>5.599683</td>\n",
       "      <td>180.0</td>\n",
       "      <td>3.6</td>\n",
       "    </tr>\n",
       "    <tr>\n",
       "      <th>8</th>\n",
       "      <td>288.610170</td>\n",
       "      <td>5.772203</td>\n",
       "      <td>190.0</td>\n",
       "      <td>3.8</td>\n",
       "    </tr>\n",
       "    <tr>\n",
       "      <th>9</th>\n",
       "      <td>300.354908</td>\n",
       "      <td>6.007098</td>\n",
       "      <td>200.0</td>\n",
       "      <td>4.0</td>\n",
       "    </tr>\n",
       "  </tbody>\n",
       "</table>\n",
       "</div>"
      ],
      "text/plain": [
       "            M   sigma_M      V  sigma_V\n",
       "0  208.003466  4.160069  110.0      2.2\n",
       "1  220.836568  4.416731  120.0      2.4\n",
       "2  229.363226  4.587265  130.0      2.6\n",
       "3  241.788688  4.835774  140.0      2.8\n",
       "4  247.943721  4.958874  150.0      3.0\n",
       "5  259.803110  5.196062  160.0      3.2\n",
       "6  268.913909  5.378278  170.0      3.4\n",
       "7  279.984172  5.599683  180.0      3.6\n",
       "8  288.610170  5.772203  190.0      3.8\n",
       "9  300.354908  6.007098  200.0      4.0"
      ]
     },
     "execution_count": 2,
     "metadata": {},
     "output_type": "execute_result"
    }
   ],
   "source": [
    "df"
   ]
  },
  {
   "cell_type": "markdown",
   "id": "a658e2fc",
   "metadata": {},
   "source": [
    "## Table with experimental results"
   ]
  },
  {
   "cell_type": "code",
   "execution_count": 3,
   "id": "a516c991",
   "metadata": {
    "ExecuteTime": {
     "end_time": "2025-03-22T03:58:44.837107Z",
     "start_time": "2025-03-22T03:58:44.822105Z"
    }
   },
   "outputs": [
    {
     "data": {
      "text/html": [
       "<div>\n",
       "<style scoped>\n",
       "    .dataframe tbody tr th:only-of-type {\n",
       "        vertical-align: middle;\n",
       "    }\n",
       "\n",
       "    .dataframe tbody tr th {\n",
       "        vertical-align: top;\n",
       "    }\n",
       "\n",
       "    .dataframe thead th {\n",
       "        text-align: right;\n",
       "    }\n",
       "</style>\n",
       "<table border=\"1\" class=\"dataframe\">\n",
       "  <thead>\n",
       "    <tr style=\"text-align: right;\">\n",
       "      <th></th>\n",
       "      <th>$(M_i \\pm \\delta M_i) \\ g$</th>\n",
       "      <th>$\\frac{\\delta M_i}{M_i}$</th>\n",
       "      <th>$(V_i \\pm \\delta V_i) \\ ml$</th>\n",
       "      <th>$\\frac{\\delta V_i}{V_i}$</th>\n",
       "    </tr>\n",
       "  </thead>\n",
       "  <tbody>\n",
       "    <tr>\n",
       "      <th>0</th>\n",
       "      <td>208.003 \\pm 4.160</td>\n",
       "      <td>0.020</td>\n",
       "      <td>110.000 \\pm 2.200</td>\n",
       "      <td>0.020</td>\n",
       "    </tr>\n",
       "    <tr>\n",
       "      <th>1</th>\n",
       "      <td>220.837 \\pm 4.417</td>\n",
       "      <td>0.020</td>\n",
       "      <td>120.000 \\pm 2.400</td>\n",
       "      <td>0.020</td>\n",
       "    </tr>\n",
       "    <tr>\n",
       "      <th>2</th>\n",
       "      <td>229.363 \\pm 4.587</td>\n",
       "      <td>0.020</td>\n",
       "      <td>130.000 \\pm 2.600</td>\n",
       "      <td>0.020</td>\n",
       "    </tr>\n",
       "    <tr>\n",
       "      <th>3</th>\n",
       "      <td>241.789 \\pm 4.836</td>\n",
       "      <td>0.020</td>\n",
       "      <td>140.000 \\pm 2.800</td>\n",
       "      <td>0.020</td>\n",
       "    </tr>\n",
       "    <tr>\n",
       "      <th>4</th>\n",
       "      <td>247.944 \\pm 4.959</td>\n",
       "      <td>0.020</td>\n",
       "      <td>150.000 \\pm 3.000</td>\n",
       "      <td>0.020</td>\n",
       "    </tr>\n",
       "    <tr>\n",
       "      <th>5</th>\n",
       "      <td>259.803 \\pm 5.196</td>\n",
       "      <td>0.020</td>\n",
       "      <td>160.000 \\pm 3.200</td>\n",
       "      <td>0.020</td>\n",
       "    </tr>\n",
       "    <tr>\n",
       "      <th>6</th>\n",
       "      <td>268.914 \\pm 5.378</td>\n",
       "      <td>0.020</td>\n",
       "      <td>170.000 \\pm 3.400</td>\n",
       "      <td>0.020</td>\n",
       "    </tr>\n",
       "    <tr>\n",
       "      <th>7</th>\n",
       "      <td>279.984 \\pm 5.600</td>\n",
       "      <td>0.020</td>\n",
       "      <td>180.000 \\pm 3.600</td>\n",
       "      <td>0.020</td>\n",
       "    </tr>\n",
       "    <tr>\n",
       "      <th>8</th>\n",
       "      <td>288.610 \\pm 5.772</td>\n",
       "      <td>0.020</td>\n",
       "      <td>190.000 \\pm 3.800</td>\n",
       "      <td>0.020</td>\n",
       "    </tr>\n",
       "    <tr>\n",
       "      <th>9</th>\n",
       "      <td>300.355 \\pm 6.007</td>\n",
       "      <td>0.020</td>\n",
       "      <td>200.000 \\pm 4.000</td>\n",
       "      <td>0.020</td>\n",
       "    </tr>\n",
       "  </tbody>\n",
       "</table>\n",
       "</div>"
      ],
      "text/plain": [
       "  $(M_i \\pm \\delta M_i) \\ g$ $\\frac{\\delta M_i}{M_i}$  \\\n",
       "0          208.003 \\pm 4.160                    0.020   \n",
       "1          220.837 \\pm 4.417                    0.020   \n",
       "2          229.363 \\pm 4.587                    0.020   \n",
       "3          241.789 \\pm 4.836                    0.020   \n",
       "4          247.944 \\pm 4.959                    0.020   \n",
       "5          259.803 \\pm 5.196                    0.020   \n",
       "6          268.914 \\pm 5.378                    0.020   \n",
       "7          279.984 \\pm 5.600                    0.020   \n",
       "8          288.610 \\pm 5.772                    0.020   \n",
       "9          300.355 \\pm 6.007                    0.020   \n",
       "\n",
       "  $(V_i \\pm \\delta V_i) \\ ml$ $\\frac{\\delta V_i}{V_i}$  \n",
       "0           110.000 \\pm 2.200                    0.020  \n",
       "1           120.000 \\pm 2.400                    0.020  \n",
       "2           130.000 \\pm 2.600                    0.020  \n",
       "3           140.000 \\pm 2.800                    0.020  \n",
       "4           150.000 \\pm 3.000                    0.020  \n",
       "5           160.000 \\pm 3.200                    0.020  \n",
       "6           170.000 \\pm 3.400                    0.020  \n",
       "7           180.000 \\pm 3.600                    0.020  \n",
       "8           190.000 \\pm 3.800                    0.020  \n",
       "9           200.000 \\pm 4.000                    0.020  "
      ]
     },
     "execution_count": 3,
     "metadata": {},
     "output_type": "execute_result"
    }
   ],
   "source": [
    "tb2"
   ]
  },
  {
   "cell_type": "markdown",
   "id": "64e2e427",
   "metadata": {},
   "source": [
    "## Plot of the linear model for M vs V"
   ]
  },
  {
   "cell_type": "code",
   "execution_count": 4,
   "id": "e46bc06a",
   "metadata": {
    "ExecuteTime": {
     "end_time": "2025-03-22T03:58:44.981104Z",
     "start_time": "2025-03-22T03:58:44.838106Z"
    }
   },
   "outputs": [
    {
     "data": {
      "image/png": "[encoded data removed]",
      "text/plain": [
       "<Figure size 800x500 with 1 Axes>"
      ]
     },
     "metadata": {},
     "output_type": "display_data"
    }
   ],
   "source": [
    "# Step 4: Plot the regression line along with data and uncertainty bands\n",
    "wd.plot_regression()"
   ]
  },
  {
   "cell_type": "code",
   "execution_count": 7,
   "id": "c1d432da",
   "metadata": {
    "ExecuteTime": {
     "end_time": "2025-03-22T03:59:02.998103Z",
     "start_time": "2025-03-22T03:59:02.978105Z"
    }
   },
   "outputs": [
    {
     "name": "stdout",
     "output_type": "stream",
     "text": [
      "LaTeX table exported to mass_volume_table.tex\n",
      "\\begin{tabular}{llll}\n",
      "\\toprule\n",
      "$(M_i \\pm \\delta M_i) \\ g$ & $\\frac{\\delta M_i}{M_i}$ & $(V_i \\pm \\delta V_i) \\ ml$ & $\\frac{\\delta V_i}{V_i}$ \\\\\n",
      "\\midrule\n",
      "208.003 \\pm 4.160 & 0.020 & 110.000 \\pm 2.200 & 0.020 \\\\\n",
      "220.837 \\pm 4.417 & 0.020 & 120.000 \\pm 2.400 & 0.020 \\\\\n",
      "229.363 \\pm 4.587 & 0.020 & 130.000 \\pm 2.600 & 0.020 \\\\\n",
      "241.789 \\pm 4.836 & 0.020 & 140.000 \\pm 2.800 & 0.020 \\\\\n",
      "247.944 \\pm 4.959 & 0.020 & 150.000 \\pm 3.000 & 0.020 \\\\\n",
      "259.803 \\pm 5.196 & 0.020 & 160.000 \\pm 3.200 & 0.020 \\\\\n",
      "268.914 \\pm 5.378 & 0.020 & 170.000 \\pm 3.400 & 0.020 \\\\\n",
      "279.984 \\pm 5.600 & 0.020 & 180.000 \\pm 3.600 & 0.020 \\\\\n",
      "288.610 \\pm 5.772 & 0.020 & 190.000 \\pm 3.800 & 0.020 \\\\\n",
      "300.355 \\pm 6.007 & 0.020 & 200.000 \\pm 4.000 & 0.020 \\\\\n",
      "\\bottomrule\n",
      "\\end{tabular}\n",
      "\n"
     ]
    }
   ],
   "source": [
    "# Step 5: Export LaTeX table to file\n",
    "table_tex = wd.export_latex_table(\"mass_volume_table.tex\")\n",
    "\n",
    "#\n",
    "print(table_tex)"
   ]
  }
 ],
 "metadata": {
  "hide_input": false,
  "kernelspec": {
   "display_name": "Python 3 (ipykernel)",
   "language": "python",
   "name": "python3"
  },
  "language_info": {
   "codemirror_mode": {
    "name": "ipython",
    "version": 3
   },
   "file_extension": ".py",
   "mimetype": "text/x-python",
   "name": "python",
   "nbconvert_exporter": "python",
   "pygments_lexer": "ipython3",
   "version": "3.9.13"
  },
  "toc": {
   "base_numbering": 1,
   "nav_menu": {},
   "number_sections": true,
   "sideBar": false,
   "skip_h1_title": false,
   "title_cell": "Table of Contents",
   "title_sidebar": "Contents",
   "toc_cell": false,
   "toc_position": {
    "height": "452px",
    "left": "21px",
    "top": "150.341px",
    "width": "174.875px"
   },
   "toc_section_display": true,
   "toc_window_display": false
  },
  "varInspector": {
   "cols": {
    "lenName": 16,
    "lenType": 16,
    "lenVar": 40
   },
   "kernels_config": {
    "python": {
     "delete_cmd_postfix": "",
     "delete_cmd_prefix": "del ",
     "library": "var_list.py",
     "varRefreshCmd": "print(var_dic_list())"
    },
    "r": {
     "delete_cmd_postfix": ") ",
     "delete_cmd_prefix": "rm(",
     "library": "var_list.r",
     "varRefreshCmd": "cat(var_dic_list()) "
    }
   },
   "types_to_exclude": [
    "module",
    "function",
    "builtin_function_or_method",
    "instance",
    "_Feature"
   ],
   "window_display": false
  }
 },
 "nbformat": 4,
 "nbformat_minor": 5
}
