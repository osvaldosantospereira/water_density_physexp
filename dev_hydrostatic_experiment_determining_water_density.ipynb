{
 "cells": [
  {
   "cell_type": "markdown",
   "id": "f7cf1671",
   "metadata": {
    "heading_collapsed": true
   },
   "source": [
    "# Functions"
   ]
  },
  {
   "cell_type": "code",
   "execution_count": 1,
   "id": "df4d30de",
   "metadata": {
    "ExecuteTime": {
     "end_time": "2025-03-22T03:31:24.221302Z",
     "start_time": "2025-03-22T03:31:23.302304Z"
    },
    "hidden": true
   },
   "outputs": [],
   "source": [
    "import numpy as np\n",
    "import pandas as pd\n",
    "import matplotlib.pyplot as plt\n",
    "\n",
    "def gen_fake_data(n_points=10,M0=300,V0=100,rho=1,V_min=110,V_max=200,err_M=0.025,err_V=0.10,noise=5):\n",
    "    # Generate volume values evenly spaced between V_min and V_max.\n",
    "    V_values = np.linspace(V_min, V_max, n_points)\n",
    "    # Calculate the mass values from the linear relation plus noise.\n",
    "    M_values = rho * V_values + (M0 - rho * V0) + np.random.uniform(-noise, noise, n_points)\n",
    "    # Create the DataFrame including the measurement uncertainties.\n",
    "    df = pd.DataFrame({\n",
    "        'M': M_values,\n",
    "        'sigma_M': M_values * err_M,\n",
    "        'V': V_values,\n",
    "        'sigma_V': V_values * err_V     \n",
    "    })\n",
    "    return df\n",
    "\n",
    "def calculate_fit(df, M0=300, V0=100, rho=1):\n",
    "    # Extract the independent (x) and dependent (y) values.\n",
    "    V_values = df['V'].values\n",
    "    M_values = df['M'].values\n",
    "    N = len(V_values)\n",
    "    # Calculate necessary summations.\n",
    "    sum_x = np.sum(V_values)\n",
    "    sum_y = np.sum(M_values)\n",
    "    sum_x2 = np.sum(V_values ** 2)\n",
    "    sum_xy = np.sum(V_values * M_values)\n",
    "    # Denominator for the slope and intercept formulas.\n",
    "    D = N * sum_x2 - sum_x ** 2\n",
    "    # Calculate slope (a) and intercept (b).\n",
    "    a = (N * sum_xy - sum_x * sum_y) / D\n",
    "    # \n",
    "    b = (sum_y - a * sum_x) / N\n",
    "    # Predicted Mass values using the regression line.\n",
    "    y_pred = a * V_values + b\n",
    "    # Residual standard error.\n",
    "    sigma_y = np.sqrt(np.sum((M_values - y_pred) ** 2) / (N - 2))\n",
    "    # Compute Sxx for calculating uncertainties.\n",
    "    Sxx = sum_x2 - (sum_x ** 2) / N\n",
    "    #\n",
    "    sigma_a = sigma_y / np.sqrt(Sxx)\n",
    "    # Standard error for the intercept.\n",
    "    x_bar = sum_x / N\n",
    "    #\n",
    "    sigma_b = sigma_y * np.sqrt(1 / N + (x_bar ** 2) / Sxx)\n",
    "    #\n",
    "    fit_params = {\n",
    "        'M0': M0,\n",
    "        'V0': V0,\n",
    "        'rho': rho,\n",
    "        'a': a,\n",
    "        'sigma_a': sigma_a,\n",
    "        'b': b,\n",
    "        'sigma_b': sigma_b,\n",
    "        'y_pred': y_pred,\n",
    "        'sigma_y': sigma_y,\n",
    "    }\n",
    "    tb = pd.DataFrame([fit_params])\n",
    "    return tb, fit_params\n",
    "    \n",
    "\n",
    "def plot_regression(df, fit_results):\n",
    "    # Extract data from the DataFrame.\n",
    "    V_values = df['V'].values\n",
    "    M_values = df['M'].values\n",
    "    # Check if the DataFrame contains error columns.\n",
    "    V_err = df['sigma_V'].values if 'sigma_V' in df.columns else None\n",
    "    M_err = df['sigma_M'].values if 'sigma_M' in df.columns else None\n",
    "    # Extract the regression fit results.\n",
    "    y_pred = fit_results['y_pred']\n",
    "    a = fit_results['a']\n",
    "    b = fit_results['b']\n",
    "    sigma_a = fit_results['sigma_a']\n",
    "    sigma_b = fit_results['sigma_b']\n",
    "    # Sort the Volume values and corresponding predictions for a smooth line.\n",
    "    sort_idx = np.argsort(V_values)\n",
    "    V_sorted = V_values[sort_idx]\n",
    "    y_pred_sorted = y_pred[sort_idx]\n",
    "    # Compute the uncertainty in the predicted y-values using error propagation:\n",
    "    # σ_y = sqrt((x * σ_a)² + σ_b²)\n",
    "    uncertainty = np.sqrt((V_sorted * sigma_a)**2 + sigma_b**2)\n",
    "    y_upper = y_pred_sorted + uncertainty\n",
    "    y_lower = y_pred_sorted - uncertainty\n",
    "    # define image\n",
    "    plt.figure(figsize=(8, 5))\n",
    "    # Plot experimental data with error bars if uncertainties are provided.\n",
    "    if V_err is not None or M_err is not None:\n",
    "        plt.errorbar(V_values, M_values, xerr=V_err, yerr=M_err,\n",
    "                     fmt='o', color='black', capsize=2, label=\"Experimental Data\")\n",
    "    else:\n",
    "        plt.scatter(V_values, M_values, color='r', label=\"Experimental Data\")\n",
    "    # Plot the best-fit regression line.\n",
    "    plt.plot(V_sorted, y_pred_sorted, linestyle='--', color='b',\n",
    "             label=f\"Best Fit: y = ({a:.4f} ± {sigma_a:.4f})x + ({b:.2f} ± {sigma_b:.2f})\")\n",
    "    # Add the uncertainty band around the regression line.\n",
    "    plt.fill_between(V_sorted, y_lower, y_upper, color='blue', alpha=0.2,\n",
    "                     label='Uncertainty Band')\n",
    "    plt.xlabel(\"Volume (mL)\")\n",
    "    plt.ylabel(\"Mass (g)\")\n",
    "    plt.title(\"Least Squares Regression: Mass vs. Volume\")\n",
    "    plt.grid(True)\n",
    "    plt.legend()\n",
    "    plt.show()\n",
    "\n",
    "    \n",
    "def format_table(df):\n",
    "    return pd.DataFrame({\n",
    "        \"$(M_i \\\\pm \\\\delta M_i) \\\\ g$\": [f\"{M:.3f} ± {sigma_M:.3f}\" for M, sigma_M in zip(df[\"M\"], df[\"sigma_M\"])],\n",
    "        \"$\\\\frac{\\\\delta M_i}{M_i}$\": [f\"{(sigma_M / M):.3f}\" for M, sigma_M in zip(df[\"M\"], df[\"sigma_M\"])],\n",
    "        \"$(V_i \\\\pm \\\\delta V_i) \\\\ ml$\": [f\"{V:.3f} ± {sigma_V:.3f}\" for V, sigma_V in zip(df[\"V\"], df[\"sigma_V\"])],\n",
    "        \"$\\\\frac{\\\\delta V_i}{V_i}$\": [f\"{(sigma_V / V):.3f}\" for V, sigma_V in zip(df[\"V\"], df[\"sigma_V\"])]\n",
    "    })"
   ]
  },
  {
   "cell_type": "markdown",
   "id": "95b8a9de",
   "metadata": {},
   "source": [
    "# Analysis"
   ]
  },
  {
   "cell_type": "code",
   "execution_count": 2,
   "id": "ddf0b4ae",
   "metadata": {
    "ExecuteTime": {
     "end_time": "2025-03-22T03:31:24.237302Z",
     "start_time": "2025-03-22T03:31:24.223303Z"
    }
   },
   "outputs": [],
   "source": [
    "# 1. Generate the experimental data (with measurement uncertainties).\n",
    "df = gen_fake_data(n_points=10, M0=200,V0=100,rho=1,V_min=110,V_max=200,err_M=0.02,err_V=0.02,noise=2)\n",
    "\n",
    "# 2. Calculate the linear fit parameters.\n",
    "tb1, fit_params = calculate_fit(df, M0=300, V0=100, rho=1)\n",
    "\n",
    "# Creates a formated table for the experiment\n",
    "tb2 = format_table(df)"
   ]
  },
  {
   "cell_type": "markdown",
   "id": "abe1caf3",
   "metadata": {},
   "source": [
    "# Artifacts"
   ]
  },
  {
   "cell_type": "markdown",
   "id": "5bf890a2",
   "metadata": {},
   "source": [
    "## Auxiliary dataframe"
   ]
  },
  {
   "cell_type": "code",
   "execution_count": 3,
   "id": "15173483",
   "metadata": {
    "ExecuteTime": {
     "end_time": "2025-03-22T03:31:24.253301Z",
     "start_time": "2025-03-22T03:31:24.239303Z"
    }
   },
   "outputs": [
    {
     "data": {
      "text/html": [
       "<div>\n",
       "<style scoped>\n",
       "    .dataframe tbody tr th:only-of-type {\n",
       "        vertical-align: middle;\n",
       "    }\n",
       "\n",
       "    .dataframe tbody tr th {\n",
       "        vertical-align: top;\n",
       "    }\n",
       "\n",
       "    .dataframe thead th {\n",
       "        text-align: right;\n",
       "    }\n",
       "</style>\n",
       "<table border=\"1\" class=\"dataframe\">\n",
       "  <thead>\n",
       "    <tr style=\"text-align: right;\">\n",
       "      <th></th>\n",
       "      <th>M</th>\n",
       "      <th>sigma_M</th>\n",
       "      <th>V</th>\n",
       "      <th>sigma_V</th>\n",
       "    </tr>\n",
       "  </thead>\n",
       "  <tbody>\n",
       "    <tr>\n",
       "      <th>0</th>\n",
       "      <td>210.661770</td>\n",
       "      <td>4.213235</td>\n",
       "      <td>110.0</td>\n",
       "      <td>2.2</td>\n",
       "    </tr>\n",
       "    <tr>\n",
       "      <th>1</th>\n",
       "      <td>219.387507</td>\n",
       "      <td>4.387750</td>\n",
       "      <td>120.0</td>\n",
       "      <td>2.4</td>\n",
       "    </tr>\n",
       "    <tr>\n",
       "      <th>2</th>\n",
       "      <td>229.491236</td>\n",
       "      <td>4.589825</td>\n",
       "      <td>130.0</td>\n",
       "      <td>2.6</td>\n",
       "    </tr>\n",
       "    <tr>\n",
       "      <th>3</th>\n",
       "      <td>241.708128</td>\n",
       "      <td>4.834163</td>\n",
       "      <td>140.0</td>\n",
       "      <td>2.8</td>\n",
       "    </tr>\n",
       "    <tr>\n",
       "      <th>4</th>\n",
       "      <td>250.629797</td>\n",
       "      <td>5.012596</td>\n",
       "      <td>150.0</td>\n",
       "      <td>3.0</td>\n",
       "    </tr>\n",
       "    <tr>\n",
       "      <th>5</th>\n",
       "      <td>261.657456</td>\n",
       "      <td>5.233149</td>\n",
       "      <td>160.0</td>\n",
       "      <td>3.2</td>\n",
       "    </tr>\n",
       "    <tr>\n",
       "      <th>6</th>\n",
       "      <td>268.194909</td>\n",
       "      <td>5.363898</td>\n",
       "      <td>170.0</td>\n",
       "      <td>3.4</td>\n",
       "    </tr>\n",
       "    <tr>\n",
       "      <th>7</th>\n",
       "      <td>280.021954</td>\n",
       "      <td>5.600439</td>\n",
       "      <td>180.0</td>\n",
       "      <td>3.6</td>\n",
       "    </tr>\n",
       "    <tr>\n",
       "      <th>8</th>\n",
       "      <td>290.994703</td>\n",
       "      <td>5.819894</td>\n",
       "      <td>190.0</td>\n",
       "      <td>3.8</td>\n",
       "    </tr>\n",
       "    <tr>\n",
       "      <th>9</th>\n",
       "      <td>299.911791</td>\n",
       "      <td>5.998236</td>\n",
       "      <td>200.0</td>\n",
       "      <td>4.0</td>\n",
       "    </tr>\n",
       "  </tbody>\n",
       "</table>\n",
       "</div>"
      ],
      "text/plain": [
       "            M   sigma_M      V  sigma_V\n",
       "0  210.661770  4.213235  110.0      2.2\n",
       "1  219.387507  4.387750  120.0      2.4\n",
       "2  229.491236  4.589825  130.0      2.6\n",
       "3  241.708128  4.834163  140.0      2.8\n",
       "4  250.629797  5.012596  150.0      3.0\n",
       "5  261.657456  5.233149  160.0      3.2\n",
       "6  268.194909  5.363898  170.0      3.4\n",
       "7  280.021954  5.600439  180.0      3.6\n",
       "8  290.994703  5.819894  190.0      3.8\n",
       "9  299.911791  5.998236  200.0      4.0"
      ]
     },
     "execution_count": 3,
     "metadata": {},
     "output_type": "execute_result"
    }
   ],
   "source": [
    "df"
   ]
  },
  {
   "cell_type": "markdown",
   "id": "a658e2fc",
   "metadata": {},
   "source": [
    "## Table with experimental results"
   ]
  },
  {
   "cell_type": "code",
   "execution_count": 4,
   "id": "a516c991",
   "metadata": {
    "ExecuteTime": {
     "end_time": "2025-03-22T03:31:24.269299Z",
     "start_time": "2025-03-22T03:31:24.254303Z"
    }
   },
   "outputs": [
    {
     "data": {
      "text/html": [
       "<div>\n",
       "<style scoped>\n",
       "    .dataframe tbody tr th:only-of-type {\n",
       "        vertical-align: middle;\n",
       "    }\n",
       "\n",
       "    .dataframe tbody tr th {\n",
       "        vertical-align: top;\n",
       "    }\n",
       "\n",
       "    .dataframe thead th {\n",
       "        text-align: right;\n",
       "    }\n",
       "</style>\n",
       "<table border=\"1\" class=\"dataframe\">\n",
       "  <thead>\n",
       "    <tr style=\"text-align: right;\">\n",
       "      <th></th>\n",
       "      <th>$(M_i \\pm \\delta M_i) \\ g$</th>\n",
       "      <th>$\\frac{\\delta M_i}{M_i}$</th>\n",
       "      <th>$(V_i \\pm \\delta V_i) \\ ml$</th>\n",
       "      <th>$\\frac{\\delta V_i}{V_i}$</th>\n",
       "    </tr>\n",
       "  </thead>\n",
       "  <tbody>\n",
       "    <tr>\n",
       "      <th>0</th>\n",
       "      <td>210.662 ± 4.213</td>\n",
       "      <td>0.020</td>\n",
       "      <td>110.000 ± 2.200</td>\n",
       "      <td>0.020</td>\n",
       "    </tr>\n",
       "    <tr>\n",
       "      <th>1</th>\n",
       "      <td>219.388 ± 4.388</td>\n",
       "      <td>0.020</td>\n",
       "      <td>120.000 ± 2.400</td>\n",
       "      <td>0.020</td>\n",
       "    </tr>\n",
       "    <tr>\n",
       "      <th>2</th>\n",
       "      <td>229.491 ± 4.590</td>\n",
       "      <td>0.020</td>\n",
       "      <td>130.000 ± 2.600</td>\n",
       "      <td>0.020</td>\n",
       "    </tr>\n",
       "    <tr>\n",
       "      <th>3</th>\n",
       "      <td>241.708 ± 4.834</td>\n",
       "      <td>0.020</td>\n",
       "      <td>140.000 ± 2.800</td>\n",
       "      <td>0.020</td>\n",
       "    </tr>\n",
       "    <tr>\n",
       "      <th>4</th>\n",
       "      <td>250.630 ± 5.013</td>\n",
       "      <td>0.020</td>\n",
       "      <td>150.000 ± 3.000</td>\n",
       "      <td>0.020</td>\n",
       "    </tr>\n",
       "    <tr>\n",
       "      <th>5</th>\n",
       "      <td>261.657 ± 5.233</td>\n",
       "      <td>0.020</td>\n",
       "      <td>160.000 ± 3.200</td>\n",
       "      <td>0.020</td>\n",
       "    </tr>\n",
       "    <tr>\n",
       "      <th>6</th>\n",
       "      <td>268.195 ± 5.364</td>\n",
       "      <td>0.020</td>\n",
       "      <td>170.000 ± 3.400</td>\n",
       "      <td>0.020</td>\n",
       "    </tr>\n",
       "    <tr>\n",
       "      <th>7</th>\n",
       "      <td>280.022 ± 5.600</td>\n",
       "      <td>0.020</td>\n",
       "      <td>180.000 ± 3.600</td>\n",
       "      <td>0.020</td>\n",
       "    </tr>\n",
       "    <tr>\n",
       "      <th>8</th>\n",
       "      <td>290.995 ± 5.820</td>\n",
       "      <td>0.020</td>\n",
       "      <td>190.000 ± 3.800</td>\n",
       "      <td>0.020</td>\n",
       "    </tr>\n",
       "    <tr>\n",
       "      <th>9</th>\n",
       "      <td>299.912 ± 5.998</td>\n",
       "      <td>0.020</td>\n",
       "      <td>200.000 ± 4.000</td>\n",
       "      <td>0.020</td>\n",
       "    </tr>\n",
       "  </tbody>\n",
       "</table>\n",
       "</div>"
      ],
      "text/plain": [
       "  $(M_i \\pm \\delta M_i) \\ g$ $\\frac{\\delta M_i}{M_i}$  \\\n",
       "0            210.662 ± 4.213                    0.020   \n",
       "1            219.388 ± 4.388                    0.020   \n",
       "2            229.491 ± 4.590                    0.020   \n",
       "3            241.708 ± 4.834                    0.020   \n",
       "4            250.630 ± 5.013                    0.020   \n",
       "5            261.657 ± 5.233                    0.020   \n",
       "6            268.195 ± 5.364                    0.020   \n",
       "7            280.022 ± 5.600                    0.020   \n",
       "8            290.995 ± 5.820                    0.020   \n",
       "9            299.912 ± 5.998                    0.020   \n",
       "\n",
       "  $(V_i \\pm \\delta V_i) \\ ml$ $\\frac{\\delta V_i}{V_i}$  \n",
       "0             110.000 ± 2.200                    0.020  \n",
       "1             120.000 ± 2.400                    0.020  \n",
       "2             130.000 ± 2.600                    0.020  \n",
       "3             140.000 ± 2.800                    0.020  \n",
       "4             150.000 ± 3.000                    0.020  \n",
       "5             160.000 ± 3.200                    0.020  \n",
       "6             170.000 ± 3.400                    0.020  \n",
       "7             180.000 ± 3.600                    0.020  \n",
       "8             190.000 ± 3.800                    0.020  \n",
       "9             200.000 ± 4.000                    0.020  "
      ]
     },
     "execution_count": 4,
     "metadata": {},
     "output_type": "execute_result"
    }
   ],
   "source": [
    "tb2"
   ]
  },
  {
   "cell_type": "markdown",
   "id": "64e2e427",
   "metadata": {},
   "source": [
    "## Plot of the linear model for M vs V"
   ]
  },
  {
   "cell_type": "code",
   "execution_count": 5,
   "id": "a101e9b0",
   "metadata": {
    "ExecuteTime": {
     "end_time": "2025-03-22T03:31:24.395301Z",
     "start_time": "2025-03-22T03:31:24.270303Z"
    }
   },
   "outputs": [
    {
     "data": {
      "image/png": "[encoded data removed]",
      "text/plain": [
       "<Figure size 800x500 with 1 Axes>"
      ]
     },
     "metadata": {},
     "output_type": "display_data"
    }
   ],
   "source": [
    "# 3. Plot the experimental data with the regression line.\n",
    "plot_regression(df, fit_params)"
   ]
  },
  {
   "cell_type": "markdown",
   "id": "b0d5e481",
   "metadata": {},
   "source": [
    "# References\n",
    "\n",
    "* https://laboratoriodefisicaufla.blogspot.com/2013/10/metodo-dos-minimos-quadrados_12.html\n",
    "* https://medium.com/analytics-vidhya/expectation-variance-of-ols-estimates-9acd2b48a635\n",
    "* http://fisexp2.if.ufrj.br/Fisexp2_Apostila2024.pdf\n",
    "* http://fisexp2.if.ufrj.br/Relatorios/Relatorio_1.pdf"
   ]
  }
 ],
 "metadata": {
  "hide_input": false,
  "kernelspec": {
   "display_name": "Python 3 (ipykernel)",
   "language": "python",
   "name": "python3"
  },
  "language_info": {
   "codemirror_mode": {
    "name": "ipython",
    "version": 3
   },
   "file_extension": ".py",
   "mimetype": "text/x-python",
   "name": "python",
   "nbconvert_exporter": "python",
   "pygments_lexer": "ipython3",
   "version": "3.9.13"
  },
  "toc": {
   "base_numbering": 1,
   "nav_menu": {},
   "number_sections": true,
   "sideBar": false,
   "skip_h1_title": false,
   "title_cell": "Table of Contents",
   "title_sidebar": "Contents",
   "toc_cell": false,
   "toc_position": {
    "height": "452px",
    "left": "21px",
    "top": "150.341px",
    "width": "174.875px"
   },
   "toc_section_display": true,
   "toc_window_display": false
  },
  "varInspector": {
   "cols": {
    "lenName": 16,
    "lenType": 16,
    "lenVar": 40
   },
   "kernels_config": {
    "python": {
     "delete_cmd_postfix": "",
     "delete_cmd_prefix": "del ",
     "library": "var_list.py",
     "varRefreshCmd": "print(var_dic_list())"
    },
    "r": {
     "delete_cmd_postfix": ") ",
     "delete_cmd_prefix": "rm(",
     "library": "var_list.r",
     "varRefreshCmd": "cat(var_dic_list()) "
    }
   },
   "types_to_exclude": [
    "module",
    "function",
    "builtin_function_or_method",
    "instance",
    "_Feature"
   ],
   "window_display": false
  }
 },
 "nbformat": 4,
 "nbformat_minor": 5
}
